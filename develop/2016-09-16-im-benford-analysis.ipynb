{
 "cells": [
  {
   "cell_type": "markdown",
   "metadata": {},
   "source": [
    "# Benford analysis"
   ]
  },
  {
   "cell_type": "code",
   "execution_count": 1,
   "metadata": {
    "collapsed": true
   },
   "outputs": [],
   "source": [
    "# Needs R kernel installed on Jupyter notebook\n",
    "# https://github.com/IRkernel/IRkernel\n",
    "library(benford.analysis)"
   ]
  },
  {
   "cell_type": "code",
   "execution_count": 2,
   "metadata": {
    "collapsed": true
   },
   "outputs": [],
   "source": [
    "data <- read.csv(\"../data/2016-08-08-last-year.xz\")"
   ]
  },
  {
   "cell_type": "code",
   "execution_count": 3,
   "metadata": {
    "collapsed": false
   },
   "outputs": [
    {
     "data": {
      "text/html": [
       "<table>\n",
       "<thead><tr><th scope=col>document_id</th><th scope=col>congressperson_name</th><th scope=col>congressperson_id</th><th scope=col>congressperson_document</th><th scope=col>term</th><th scope=col>state</th><th scope=col>party</th><th scope=col>term_id</th><th scope=col>subquota_number</th><th scope=col>subquota_description</th><th scope=col>⋯</th><th scope=col>net_value</th><th scope=col>month</th><th scope=col>year</th><th scope=col>installment</th><th scope=col>passenger</th><th scope=col>leg_of_the_trip</th><th scope=col>batch_number</th><th scope=col>reimbursement_number</th><th scope=col>reimbursement_value</th><th scope=col>applicant_id</th></tr></thead>\n",
       "<tbody>\n",
       "\t<tr><td>5886345                                                </td><td>ABEL MESQUITA JR.                                      </td><td>178957                                                 </td><td>1                                                      </td><td>2015                                                   </td><td>RR                                                     </td><td>DEM                                                    </td><td>55                                                     </td><td>1                                                      </td><td>Maintenance of office supporting parliamentary activity</td><td><U+22EF>                                               </td><td>165.65                                                 </td><td>11                                                     </td><td>2015                                                   </td><td>0                                                      </td><td>                                                       </td><td>                                                       </td><td>1255355                                                </td><td>5294                                                   </td><td>NA                                                     </td><td>3074                                                   </td></tr>\n",
       "\t<tr><td>5886361                                                </td><td>ABEL MESQUITA JR.                                      </td><td>178957                                                 </td><td>1                                                      </td><td>2015                                                   </td><td>RR                                                     </td><td>DEM                                                    </td><td>55                                                     </td><td>1                                                      </td><td>Maintenance of office supporting parliamentary activity</td><td><U+22EF>                                               </td><td> 59.48                                                 </td><td>12                                                     </td><td>2015                                                   </td><td>0                                                      </td><td>                                                       </td><td>                                                       </td><td>1255361                                                </td><td>5294                                                   </td><td>NA                                                     </td><td>3074                                                   </td></tr>\n",
       "\t<tr><td>5886341                                                </td><td>ABEL MESQUITA JR.                                      </td><td>178957                                                 </td><td>1                                                      </td><td>2015                                                   </td><td>RR                                                     </td><td>DEM                                                    </td><td>55                                                     </td><td>1                                                      </td><td>Maintenance of office supporting parliamentary activity</td><td><U+22EF>                                               </td><td>130.95                                                 </td><td>11                                                     </td><td>2015                                                   </td><td>0                                                      </td><td>                                                       </td><td>                                                       </td><td>1255355                                                </td><td>5294                                                   </td><td>NA                                                     </td><td>3074                                                   </td></tr>\n",
       "\t<tr><td>5928783                                                </td><td>ABEL MESQUITA JR.                                      </td><td>178957                                                 </td><td>1                                                      </td><td>2015                                                   </td><td>RR                                                     </td><td>DEM                                                    </td><td>55                                                     </td><td>1                                                      </td><td>Maintenance of office supporting parliamentary activity</td><td><U+22EF>                                               </td><td>193.06                                                 </td><td>12                                                     </td><td>2015                                                   </td><td>0                                                      </td><td>                                                       </td><td>                                                       </td><td>1268867                                                </td><td>5370                                                   </td><td>NA                                                     </td><td>3074                                                   </td></tr>\n",
       "\t<tr><td>5608486                                                </td><td>ABEL MESQUITA JR.                                      </td><td>178957                                                 </td><td>1                                                      </td><td>2015                                                   </td><td>RR                                                     </td><td>DEM                                                    </td><td>55                                                     </td><td>1                                                      </td><td>Maintenance of office supporting parliamentary activity</td><td><U+22EF>                                               </td><td>310.25                                                 </td><td> 2                                                     </td><td>2015                                                   </td><td>0                                                      </td><td>                                                       </td><td>                                                       </td><td>1168538                                                </td><td>4966                                                   </td><td>NA                                                     </td><td>3074                                                   </td></tr>\n",
       "\t<tr><td>5772352                                                </td><td>ABEL MESQUITA JR.                                      </td><td>178957                                                 </td><td>1                                                      </td><td>2015                                                   </td><td>RR                                                     </td><td>DEM                                                    </td><td>55                                                     </td><td>3                                                      </td><td>Fuels and lubricants                                   </td><td><U+22EF>                                               </td><td> 32.00                                                 </td><td> 6                                                     </td><td>2015                                                   </td><td>0                                                      </td><td>                                                       </td><td>                                                       </td><td>1220276                                                </td><td>5131                                                   </td><td>NA                                                     </td><td>3074                                                   </td></tr>\n",
       "</tbody>\n",
       "</table>\n"
      ],
      "text/latex": [
       "\\begin{tabular}{r|lllllllllllllllllllllllllllll}\n",
       " document\\_id & congressperson\\_name & congressperson\\_id & congressperson\\_document & term & state & party & term\\_id & subquota\\_number & subquota\\_description & ⋯ & net\\_value & month & year & installment & passenger & leg\\_of\\_the\\_trip & batch\\_number & reimbursement\\_number & reimbursement\\_value & applicant\\_id\\\\\n",
       "\\hline\n",
       "\t 5886345                                                 & ABEL MESQUITA JR.                                       & 178957                                                  & 1                                                       & 2015                                                    & RR                                                      & DEM                                                     & 55                                                      & 1                                                       & Maintenance of office supporting parliamentary activity & <U+22EF>                                                & 165.65                                                  & 11                                                      & 2015                                                    & 0                                                       &                                                         &                                                         & 1255355                                                 & 5294                                                    & NA                                                      & 3074                                                   \\\\\n",
       "\t 5886361                                                 & ABEL MESQUITA JR.                                       & 178957                                                  & 1                                                       & 2015                                                    & RR                                                      & DEM                                                     & 55                                                      & 1                                                       & Maintenance of office supporting parliamentary activity & <U+22EF>                                                &  59.48                                                  & 12                                                      & 2015                                                    & 0                                                       &                                                         &                                                         & 1255361                                                 & 5294                                                    & NA                                                      & 3074                                                   \\\\\n",
       "\t 5886341                                                 & ABEL MESQUITA JR.                                       & 178957                                                  & 1                                                       & 2015                                                    & RR                                                      & DEM                                                     & 55                                                      & 1                                                       & Maintenance of office supporting parliamentary activity & <U+22EF>                                                & 130.95                                                  & 11                                                      & 2015                                                    & 0                                                       &                                                         &                                                         & 1255355                                                 & 5294                                                    & NA                                                      & 3074                                                   \\\\\n",
       "\t 5928783                                                 & ABEL MESQUITA JR.                                       & 178957                                                  & 1                                                       & 2015                                                    & RR                                                      & DEM                                                     & 55                                                      & 1                                                       & Maintenance of office supporting parliamentary activity & <U+22EF>                                                & 193.06                                                  & 12                                                      & 2015                                                    & 0                                                       &                                                         &                                                         & 1268867                                                 & 5370                                                    & NA                                                      & 3074                                                   \\\\\n",
       "\t 5608486                                                 & ABEL MESQUITA JR.                                       & 178957                                                  & 1                                                       & 2015                                                    & RR                                                      & DEM                                                     & 55                                                      & 1                                                       & Maintenance of office supporting parliamentary activity & <U+22EF>                                                & 310.25                                                  &  2                                                      & 2015                                                    & 0                                                       &                                                         &                                                         & 1168538                                                 & 4966                                                    & NA                                                      & 3074                                                   \\\\\n",
       "\t 5772352                                                 & ABEL MESQUITA JR.                                       & 178957                                                  & 1                                                       & 2015                                                    & RR                                                      & DEM                                                     & 55                                                      & 3                                                       & Fuels and lubricants                                    & <U+22EF>                                                &  32.00                                                  &  6                                                      & 2015                                                    & 0                                                       &                                                         &                                                         & 1220276                                                 & 5131                                                    & NA                                                      & 3074                                                   \\\\\n",
       "\\end{tabular}\n"
      ],
      "text/plain": [
       "  document_id congressperson_name congressperson_id congressperson_document\n",
       "1 5886345     ABEL MESQUITA JR.   178957            1                      \n",
       "2 5886361     ABEL MESQUITA JR.   178957            1                      \n",
       "3 5886341     ABEL MESQUITA JR.   178957            1                      \n",
       "4 5928783     ABEL MESQUITA JR.   178957            1                      \n",
       "5 5608486     ABEL MESQUITA JR.   178957            1                      \n",
       "6 5772352     ABEL MESQUITA JR.   178957            1                      \n",
       "  term state party term_id subquota_number\n",
       "1 2015 RR    DEM   55      1              \n",
       "2 2015 RR    DEM   55      1              \n",
       "3 2015 RR    DEM   55      1              \n",
       "4 2015 RR    DEM   55      1              \n",
       "5 2015 RR    DEM   55      1              \n",
       "6 2015 RR    DEM   55      3              \n",
       "  subquota_description                                    <U+22EF>   net_value\n",
       "1 Maintenance of office supporting parliamentary activity <U+22EF> 165.65   \n",
       "2 Maintenance of office supporting parliamentary activity <U+22EF>  59.48   \n",
       "3 Maintenance of office supporting parliamentary activity <U+22EF> 130.95   \n",
       "4 Maintenance of office supporting parliamentary activity <U+22EF> 193.06   \n",
       "5 Maintenance of office supporting parliamentary activity <U+22EF> 310.25   \n",
       "6 Fuels and lubricants                                    <U+22EF>  32.00   \n",
       "  month year installment passenger leg_of_the_trip batch_number\n",
       "1 11    2015 0                                     1255355     \n",
       "2 12    2015 0                                     1255361     \n",
       "3 11    2015 0                                     1255355     \n",
       "4 12    2015 0                                     1268867     \n",
       "5  2    2015 0                                     1168538     \n",
       "6  6    2015 0                                     1220276     \n",
       "  reimbursement_number reimbursement_value applicant_id\n",
       "1 5294                 NA                  3074        \n",
       "2 5294                 NA                  3074        \n",
       "3 5294                 NA                  3074        \n",
       "4 5370                 NA                  3074        \n",
       "5 4966                 NA                  3074        \n",
       "6 5131                 NA                  3074        "
      ]
     },
     "metadata": {},
     "output_type": "display_data"
    }
   ],
   "source": [
    "head(data)"
   ]
  },
  {
   "cell_type": "markdown",
   "metadata": {},
   "source": [
    "Benford object with analysis on first 2 digits:"
   ]
  },
  {
   "cell_type": "markdown",
   "metadata": {},
   "source": [
    "## Benford object and explorations"
   ]
  },
  {
   "cell_type": "code",
   "execution_count": 4,
   "metadata": {
    "collapsed": false
   },
   "outputs": [],
   "source": [
    "net_value.benford <- benford(data$net_value,number.of.digits = 2)"
   ]
  },
  {
   "cell_type": "markdown",
   "metadata": {},
   "source": [
    "I was having trouble with benford::plot.Benford and Jupyter, so I'll embed the plot in markdown.  \n",
    "<img src=\"../files/benford_plot2digs.png\">"
   ]
  },
  {
   "cell_type": "markdown",
   "metadata": {},
   "source": [
    "Looks like we have great differences for 10 and 50. Rounded/biased net values are not crimes, however this can point to suspicious activities. Numeric values for largest deviations (10,50,80,40)  "
   ]
  },
  {
   "cell_type": "code",
   "execution_count": 5,
   "metadata": {
    "collapsed": false
   },
   "outputs": [
    {
     "name": "stdout",
     "output_type": "stream",
     "text": [
      "\n",
      "Benford object:\n",
      " \n",
      "Data: data$net_value \n",
      "Number of observations used = 356745 \n",
      "Number of obs. for second order = 65597 \n",
      "First digits analysed = 2\n",
      "\n",
      "Mantissa: \n",
      "\n",
      "   Statistic   Value\n",
      "        Mean  0.4743\n",
      "         Var  0.0917\n",
      " Ex.Kurtosis -1.2986\n",
      "    Skewness  0.0027\n",
      "\n",
      "\n",
      "The 5 largest deviations: \n",
      "\n",
      "  digits absolute.diff\n",
      "1     10      14327.37\n",
      "2     50      11698.93\n",
      "3     15       3855.89\n",
      "4     80       3516.35\n",
      "5     40       3391.31\n",
      "\n",
      "Stats:\n",
      "\n",
      "\tPearson's Chi-squared test\n",
      "\n",
      "data:  data$net_value\n",
      "X-squared = 90323, df = 89, p-value < 2.2e-16\n",
      "\n",
      "\n",
      "\tMantissa Arc Test\n",
      "\n",
      "data:  data$net_value\n",
      "L2 = 0.0061734, df = 2, p-value < 2.2e-16\n",
      "\n",
      "Mean Absolute Deviation: 0.003297309\n",
      "Distortion Factor: -4.133436\n",
      "\n",
      "Remember: Real data will never conform perfectly to Benford's Law. You should not focus on p-values!"
     ]
    }
   ],
   "source": [
    "# Plot results. \n",
    "print(net_value.benford)"
   ]
  },
  {
   "cell_type": "code",
   "execution_count": 6,
   "metadata": {
    "collapsed": false
   },
   "outputs": [],
   "source": [
    "# Get 10 most frequent initial 2 digits and absolut different from benford distribution\n",
<<<<<<< HEAD:develop/2016-09-16-im-benford-analysis.ipynb
    "frequent_values <- suspectsTable(net_value.benford)"
   ]
  },
  {
   "cell_type": "code",
   "execution_count": 7,
   "metadata": {
    "collapsed": false
   },
   "outputs": [
    {
     "data": {
      "text/html": [
       "<table>\n",
       "<thead><tr><th scope=col>digits</th><th scope=col>absolute.diff</th></tr></thead>\n",
       "<tbody>\n",
       "\t<tr><td>10       </td><td>14327.367</td></tr>\n",
       "\t<tr><td>50       </td><td>11698.932</td></tr>\n",
       "\t<tr><td>15       </td><td> 3855.893</td></tr>\n",
       "\t<tr><td>80       </td><td> 3516.349</td></tr>\n",
       "\t<tr><td>40       </td><td> 3391.315</td></tr>\n",
       "\t<tr><td>12       </td><td> 3041.792</td></tr>\n",
       "</tbody>\n",
       "</table>\n"
      ],
      "text/latex": [
       "\\begin{tabular}{r|ll}\n",
       " digits & absolute.diff\\\\\n",
       "\\hline\n",
       "\t 10        & 14327.367\\\\\n",
       "\t 50        & 11698.932\\\\\n",
       "\t 15        &  3855.893\\\\\n",
       "\t 80        &  3516.349\\\\\n",
       "\t 40        &  3391.315\\\\\n",
       "\t 12        &  3041.792\\\\\n",
       "\\end{tabular}\n"
      ],
      "text/plain": [
       "  digits absolute.diff\n",
       "1 10     14327.367    \n",
       "2 50     11698.932    \n",
       "3 15      3855.893    \n",
       "4 80      3516.349    \n",
       "5 40      3391.315    \n",
       "6 12      3041.792    "
      ]
     },
     "metadata": {},
     "output_type": "display_data"
    },
    {
     "data": {
      "text/plain": [
       "\n",
       "         MARCO MAIA      CELSO MALDANER JOSE ST\\303\\211DILE             LEANDRE \n",
       "                499                 320                 305                 287 \n",
       "  ERIVELTON SANTANA       ARNALDO JORDY \n",
       "                278                 270 "
      ]
     },
     "metadata": {},
     "output_type": "display_data"
    }
   ],
   "source": [
    "head(frequent_values)\n",
    "# Selects cases with 2 most frequent digits (10 and 50)\n",
    "suspects <- getSuspects(net_value.benford,data, how.many=2)\n",
    "\n",
    "# Most frequent names associated with net values == 30 or 50 .\n",
    "frequent_names <- sort(table(suspects$congressperson_name),decreasing =T) \n",
    "head(frequent_names)"
   ]
  }
 ],
 "metadata": {
  "anaconda-cloud": {},
  "kernelspec": {
   "display_name": "R",
   "language": "R",
   "name": "ir"
  },
  "language_info": {
   "codemirror_mode": "r",
   "file_extension": ".r",
   "mimetype": "text/x-r-source",
   "name": "R",
   "pygments_lexer": "r",
   "version": "3.3.1"
  }
 },
 "nbformat": 4,
 "nbformat_minor": 1
}
